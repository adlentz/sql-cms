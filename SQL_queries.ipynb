{
 "cells": [
  {
   "cell_type": "markdown",
   "metadata": {},
   "source": [
    "# SQL Queries on CMS' 2010 Medicare Beneficiary Data"
   ]
  },
  {
   "cell_type": "markdown",
   "metadata": {},
   "source": [
    "This project uses Python's Postgres client, _psycopg2_ to carry out SQL queries on a smaller set of CMS' synthetic 2010 Medicare Beneficiary data."
   ]
  },
  {
   "cell_type": "markdown",
   "metadata": {},
   "source": [
    "## Python's psycopg2"
   ]
  },
  {
   "cell_type": "markdown",
   "metadata": {},
   "source": [
    "The documentation for psycopg2 can be found online. If you do not already have psycopg2 you can pip install psycopg2 (if you see errors later in this page it is not installed). First, I will import the package:"
   ]
  },
  {
   "cell_type": "code",
   "execution_count": 2,
   "metadata": {
    "collapsed": true
   },
   "outputs": [],
   "source": [
    "import psycopg2"
   ]
  },
  {
   "cell_type": "markdown",
   "metadata": {},
   "source": [
    "To use psycopg2, I first connected to a running Postgres database using the database name, my username, a host IP or address or localhost if running the database locally, a port number, and possibly a password. These parameters are set below. Adjust the dbname and user (and password if needed) to match where you stored your CMS data."
   ]
  },
  {
   "cell_type": "code",
   "execution_count": 3,
   "metadata": {
    "collapsed": true
   },
   "outputs": [],
   "source": [
    "dbname='alysonlentz'\n",
    "user='alysonlentz'\n",
    "password=''"
   ]
  },
  {
   "cell_type": "markdown",
   "metadata": {},
   "source": [
    "To create a nice looking tabular output from the SQL queries, I utilized the _pandas_ Python package. I created a function that accepts the SQL statement, creates its own cursor, executes the SQL query, and then prints the results in a nice tabular format."
   ]
  },
  {
   "cell_type": "code",
   "execution_count": 6,
   "metadata": {
    "collapsed": true
   },
   "outputs": [],
   "source": [
    "import pandas as pd\n",
    "def tabular(SQL):\n",
    "    \"\"\"Displays the results of a Postgres query using psycopg2 in table form.\n",
    "    \n",
    "    Parameters\n",
    "    ----------\n",
    "    SQL : str\n",
    "        A valid SQL query.\n",
    "    \"\"\"\n",
    "    pd.set_option('display.max_rows', 50)\n",
    "    con = psycopg2.connect(dbname=dbname, user=user, host='localhost', port=5432, password=password)\n",
    "    cur = con.cursor()\n",
    "    try:\n",
    "        cur.execute(SQL)\n",
    "    except (psycopg2.Error) as e:\n",
    "        con.close()\n",
    "        print 'Invalid query!'\n",
    "    colnames = [desc[0] for desc in cur.description]\n",
    "    df = pd.DataFrame(cur.fetchall(), columns=colnames)\n",
    "    print df"
   ]
  },
  {
   "cell_type": "markdown",
   "metadata": {},
   "source": [
    "## Example 1:"
   ]
  },
  {
   "cell_type": "markdown",
   "metadata": {},
   "source": [
    "Find the average months of HMO coverage when the patient was reported to have cancer."
   ]
  },
  {
   "cell_type": "code",
   "execution_count": 12,
   "metadata": {
    "collapsed": false
   },
   "outputs": [
    {
     "name": "stdout",
     "output_type": "stream",
     "text": [
      "           avg_hmo_mo\n",
      "0  3.7023121636911702\n"
     ]
    }
   ],
   "source": [
    "SQL = \"\"\"\n",
    "SELECT AVG(hmo_mo) AS avg_hmo_mo\n",
    "FROM\n",
    "    (SELECT id FROM cmspop WHERE cancer = True) AS LHS\n",
    "LEFT JOIN\n",
    "    (SELECT id, hmo_mo FROM cmsclaims) AS RHS\n",
    "ON LHS.id = RHS.id;\n",
    "\"\"\"\n",
    "tabular(SQL)"
   ]
  },
  {
   "cell_type": "markdown",
   "metadata": {},
   "source": [
    "## Example 2:"
   ]
  },
  {
   "cell_type": "markdown",
   "metadata": {},
   "source": [
    "The claims where id contains either “000” or “34”."
   ]
  },
  {
   "cell_type": "code",
   "execution_count": 15,
   "metadata": {
    "collapsed": false
   },
   "outputs": [
    {
     "name": "stdout",
     "output_type": "stream",
     "text": [
      "                 id         dob   dod     sex      race state  county  \\\n",
      "0  00013D2EFD8E45D1  1923-05-01  None    male     white    MO     950   \n",
      "1  00016F745862898F  1943-01-01  None    male     white    PA     230   \n",
      "2  0001FDD721E223DC  1936-09-01  None  female     white    PA     280   \n",
      "3  00021CA6FF03E670  1941-06-01  None    male  hispanic    CO     290   \n",
      "4  00024B3D2352D2D0  1936-08-01  None    male     white    WI     590   \n",
      "\n",
      "  alz_rel_sen heart_fail cancer depression  \n",
      "0       False       True  False      False  \n",
      "1        True       True  False      False  \n",
      "2       False      False  False      False  \n",
      "3       False      False  False      False  \n",
      "4       False      False  False      False  \n"
     ]
    }
   ],
   "source": [
    "SQL = \"\"\"\n",
    "SELECT * \n",
    "FROM \n",
    "  cmspop \n",
    "WHERE id LIKE '%000%' OR id LIKE '%34%'\n",
    "LIMIT 5;\n",
    "\"\"\"\n",
    "tabular(SQL)"
   ]
  },
  {
   "cell_type": "markdown",
   "metadata": {},
   "source": [
    "## Example 3:"
   ]
  },
  {
   "cell_type": "markdown",
   "metadata": {},
   "source": [
    "Find the total carrier reimbursements for every state, ordered by state in ascending order."
   ]
  },
  {
   "cell_type": "code",
   "execution_count": 16,
   "metadata": {
    "collapsed": false
   },
   "outputs": [
    {
     "name": "stdout",
     "output_type": "stream",
     "text": [
      "   state  total_carrier_reimb\n",
      "0     AK              2772920\n",
      "1     AL             37954040\n",
      "2     AR             24332640\n",
      "3     AZ             32223660\n",
      "4     CA            154337620\n",
      "5     CO             23097780\n",
      "6     CT             24599990\n",
      "7     DC              3312650\n",
      "8     DE              7357400\n",
      "9     FL            139028200\n",
      "10    GA             54178430\n",
      "11    HI              6486680\n",
      "12    IA             23215920\n",
      "13    ID              9103040\n",
      "14    IL             81784840\n",
      "15    IN             44170960\n",
      "16    KS             20141320\n",
      "17    KY             33882710\n",
      "18    LA             28909950\n",
      "19    MA             44394180\n",
      "20    MD             36109930\n",
      "21    ME             11912230\n",
      "22    MI             71438500\n",
      "23    MN             29637730\n",
      "24    MO             42094250\n",
      "..   ...                  ...\n",
      "27    NC             65286040\n",
      "28    ND              5406490\n",
      "29    NE             12529690\n",
      "30    NH             10448720\n",
      "31    NJ             60752050\n",
      "32    NM             12132570\n",
      "33    NV             11998970\n",
      "34    NY            116546120\n",
      "35    OH             76435610\n",
      "36    OK             26460370\n",
      "37    OR             19816090\n",
      "38  Othr             15477940\n",
      "39    PA             82629600\n",
      "40    RI              6828090\n",
      "41    SC             34820150\n",
      "42    SD              6214330\n",
      "43    TN             45347210\n",
      "44    TX            126168270\n",
      "45    UT             10886010\n",
      "46    VA             51115750\n",
      "47    VT              5161670\n",
      "48    WA             36836530\n",
      "49    WI             35920810\n",
      "50    WV             16259940\n",
      "51    WY              4028310\n",
      "\n",
      "[52 rows x 2 columns]\n"
     ]
    }
   ],
   "source": [
    "SQL = \"\"\"\n",
    "SELECT state, SUM(RHS.carrier_reimb) AS total_carrier_reimb\n",
    "FROM\n",
    "    (SELECT id, state FROM cmspop) AS LHS\n",
    "LEFT JOIN\n",
    "    (SELECT id, carrier_reimb FROM cmsclaims) AS RHS\n",
    "ON LHS.id = RHS.id\n",
    "GROUP BY state\n",
    "ORDER BY state ASC;\n",
    "\"\"\"\n",
    "tabular(SQL)"
   ]
  },
  {
   "cell_type": "markdown",
   "metadata": {},
   "source": [
    "## Example 4:"
   ]
  },
  {
   "cell_type": "markdown",
   "metadata": {},
   "source": [
    "Calculate the ratio of carrier reimbursement to beneficiary responsibility in descending order."
   ]
  },
  {
   "cell_type": "code",
   "execution_count": 18,
   "metadata": {
    "collapsed": false
   },
   "outputs": [
    {
     "name": "stdout",
     "output_type": "stream",
     "text": [
      "   ratio\n",
      "0  155.0\n",
      "1  127.0\n",
      "2  116.0\n",
      "3  115.0\n",
      "4  109.0\n",
      "5  109.0\n",
      "6   95.0\n",
      "7   93.0\n",
      "8   89.0\n",
      "9   87.0\n"
     ]
    }
   ],
   "source": [
    "SQL = \"\"\"\n",
    "SELECT (carrier_reimb/bene_resp)::float AS ratio \n",
    "FROM \n",
    "  cmsclaims \n",
    "WHERE bene_resp <> 0 \n",
    "ORDER BY ratio DESC\n",
    "LIMIT 10;\n",
    "\"\"\"\n",
    "tabular(SQL)"
   ]
  },
  {
   "cell_type": "markdown",
   "metadata": {},
   "source": [
    "## Example 5:"
   ]
  },
  {
   "cell_type": "markdown",
   "metadata": {},
   "source": [
    "Find out which state spends the most money on carrier reimbursements for depression. Return columns for the state and total carrier reimbursements spent on depression."
   ]
  },
  {
   "cell_type": "code",
   "execution_count": 20,
   "metadata": {
    "collapsed": false
   },
   "outputs": [
    {
     "name": "stdout",
     "output_type": "stream",
     "text": [
      "  state  total_carrier_reimb_on_depression\n",
      "0    CA                           49975370\n"
     ]
    }
   ],
   "source": [
    "SQL = \"\"\"\n",
    "SELECT state, SUM(RHS.carrier_reimb) AS total_carrier_reimb_on_depression\n",
    "FROM\n",
    "    (SELECT id, state FROM cmspop WHERE depression = True) AS LHS\n",
    "LEFT JOIN\n",
    "    (SELECT id, carrier_reimb FROM cmsclaims) AS RHS\n",
    "ON LHS.id = RHS.id\n",
    "GROUP BY state\n",
    "ORDER BY total_carrier_reimb_on_depression DESC\n",
    "LIMIT 1;\n",
    "\"\"\"\n",
    "tabular(SQL)"
   ]
  },
  {
   "cell_type": "markdown",
   "metadata": {},
   "source": [
    "## Example 6:"
   ]
  },
  {
   "cell_type": "markdown",
   "metadata": {},
   "source": [
    "For every value of carrier reimbursement, how many total months of HMO coverage were provided? Order by carrier reimbursements in descending order."
   ]
  },
  {
   "cell_type": "code",
   "execution_count": 22,
   "metadata": {
    "collapsed": false
   },
   "outputs": [
    {
     "name": "stdout",
     "output_type": "stream",
     "text": [
      "     carrier_reimb  total_hmo_months\n",
      "0            16530                12\n",
      "1            13040                 0\n",
      "2            12500                12\n",
      "3            11730                 0\n",
      "4            11630                 0\n",
      "5            11380                 0\n",
      "6            11340                12\n",
      "7            11210                 5\n",
      "8            11100                 0\n",
      "9            11050                 0\n",
      "10           10930                 0\n",
      "11           10920                12\n",
      "12           10890                 7\n",
      "13           10830                12\n",
      "14           10790                 0\n",
      "15           10760                 0\n",
      "16           10730                 5\n",
      "17           10700                12\n",
      "18           10610                12\n",
      "19           10490                 0\n",
      "20           10420                12\n",
      "21           10400                12\n",
      "22           10390                12\n",
      "23           10350                12\n",
      "24           10310                12\n",
      "..             ...               ...\n",
      "948            240             38626\n",
      "949            230             38248\n",
      "950            220             38132\n",
      "951            210             40105\n",
      "952            200             40404\n",
      "953            190             41065\n",
      "954            180             42474\n",
      "955            170             43968\n",
      "956            160             43805\n",
      "957            150             45435\n",
      "958            140             48844\n",
      "959            130             46154\n",
      "960            120             47628\n",
      "961            110             51246\n",
      "962            100             53603\n",
      "963             90             55885\n",
      "964             80             67953\n",
      "965             70             50775\n",
      "966             60             63202\n",
      "967             50             78460\n",
      "968             40             48036\n",
      "969             30             75581\n",
      "970             20             51547\n",
      "971             10             62545\n",
      "972              0           1515039\n",
      "\n",
      "[973 rows x 2 columns]\n"
     ]
    }
   ],
   "source": [
    "SQL = \"\"\"\n",
    "SELECT carrier_reimb, SUM(hmo_mo) AS total_hmo_months \n",
    "FROM \n",
    "  cmsclaims \n",
    "GROUP BY carrier_reimb \n",
    "ORDER BY carrier_reimb DESC;\n",
    "\"\"\"\n",
    "tabular(SQL)"
   ]
  },
  {
   "cell_type": "markdown",
   "metadata": {},
   "source": [
    "## Example 7:"
   ]
  },
  {
   "cell_type": "markdown",
   "metadata": {},
   "source": [
    "Rank each state by their number of heart failure claims in proportion to their total claims, ordered by the proportion in descending order. Your query should return two columns."
   ]
  },
  {
   "cell_type": "code",
   "execution_count": 23,
   "metadata": {
    "collapsed": false
   },
   "outputs": [
    {
     "name": "stdout",
     "output_type": "stream",
     "text": [
      "   state  prop_hf_claims\n",
      "0     NJ        0.299248\n",
      "1     IL        0.299172\n",
      "2     MD        0.295338\n",
      "3     TX        0.295151\n",
      "4     KY        0.295104\n",
      "5     SC        0.288719\n",
      "6     IN        0.285921\n",
      "7     KS        0.282834\n",
      "8     MI        0.282747\n",
      "9     MS        0.280962\n",
      "10    OH        0.280505\n",
      "11    MO        0.280107\n",
      "12    NY        0.279261\n",
      "13    FL        0.276832\n",
      "14    IA        0.276802\n",
      "15    VA        0.275898\n",
      "16    GA        0.273272\n",
      "17    LA        0.271915\n",
      "18    NE        0.271429\n",
      "19    MA        0.269978\n",
      "20    ME        0.268407\n",
      "21    NC        0.262323\n",
      "22    TN        0.260019\n",
      "23    PA        0.257831\n",
      "24    CT        0.255286\n",
      "..   ...             ...\n",
      "27    MN        0.246830\n",
      "28    OK        0.246060\n",
      "29    CA        0.241850\n",
      "30    SD        0.240586\n",
      "31    MT        0.235521\n",
      "32    WI        0.233023\n",
      "33    AL        0.232198\n",
      "34    WV        0.231978\n",
      "35    NV        0.231320\n",
      "36    DE        0.230977\n",
      "37    VT        0.229393\n",
      "38    AZ        0.218221\n",
      "39    AR        0.209706\n",
      "40    ID        0.205637\n",
      "41    ND        0.203634\n",
      "42    AK        0.191672\n",
      "43    UT        0.189059\n",
      "44    OR        0.184262\n",
      "45    CO        0.182709\n",
      "46    HI        0.178382\n",
      "47    DC        0.171073\n",
      "48    NM        0.166697\n",
      "49    RI        0.155283\n",
      "50  Othr        0.146974\n",
      "51    WY        0.130080\n",
      "\n",
      "[52 rows x 2 columns]\n"
     ]
    }
   ],
   "source": [
    "SQL = \"\"\"\n",
    "SELECT LHS.state, (LHS.num_heart_fail_claims::float / RHS.num_claims) AS prop_hf_claims\n",
    "FROM \n",
    "  (SELECT state, COUNT(*) AS num_heart_fail_claims FROM cmspop WHERE heart_fail = True GROUP BY state) AS LHS\n",
    "LEFT JOIN \n",
    "  (SELECT state, COUNT(*) AS num_claims FROM cmspop GROUP BY state) AS RHS\n",
    "ON LHS.state = RHS.state \n",
    "ORDER BY prop_hf_claims DESC;\n",
    "\"\"\"\n",
    "tabular(SQL)"
   ]
  },
  {
   "cell_type": "markdown",
   "metadata": {},
   "source": [
    "## Example 8:"
   ]
  },
  {
   "cell_type": "markdown",
   "metadata": {},
   "source": [
    "Return the state and number of heart failures for the state with the greatest number of heart failures."
   ]
  },
  {
   "cell_type": "code",
   "execution_count": 24,
   "metadata": {
    "collapsed": false
   },
   "outputs": [
    {
     "name": "stdout",
     "output_type": "stream",
     "text": [
      "  state  num_heart_failures\n",
      "0    CA               47281\n"
     ]
    }
   ],
   "source": [
    "SQL = \"\"\"\n",
    "SELECT state, COUNT(heart_fail) AS num_heart_failures \n",
    "FROM \n",
    "  cmspop \n",
    "WHERE heart_fail = True \n",
    "GROUP BY state\n",
    "ORDER BY num_heart_failures DESC \n",
    "LIMIT 1;\n",
    "\"\"\"\n",
    "tabular(SQL)"
   ]
  },
  {
   "cell_type": "markdown",
   "metadata": {},
   "source": [
    "## Example 9:"
   ]
  },
  {
   "cell_type": "markdown",
   "metadata": {},
   "source": [
    "Return the id, sex, race, and age in integer years at the time of data collection for the oldest living person in Massachusetts that has all complications (Alzheimers, depression, cancer, and heart failure)."
   ]
  },
  {
   "cell_type": "code",
   "execution_count": 31,
   "metadata": {
    "collapsed": false
   },
   "outputs": [
    {
     "name": "stdout",
     "output_type": "stream",
     "text": [
      "                 id     sex   race    age\n",
      "0  AB33557A62C914C7  female  white  101.0\n"
     ]
    }
   ],
   "source": [
    "SQL = \"\"\"\n",
    "SELECT id, sex, race, FLOOR(2010 - CAST(SUBSTR(dob, 1, 4) AS int)) AS age \n",
    "FROM\n",
    "  cmspop \n",
    "WHERE alz_rel_sen = 't' AND heart_fail = 't' AND cancer = 't' AND depression\n",
    "= 't' AND state = 'MA' AND dod IS NULL \n",
    "ORDER BY age DESC \n",
    "LIMIT 1;\n",
    "\"\"\"\n",
    "tabular(SQL)"
   ]
  },
  {
   "cell_type": "markdown",
   "metadata": {},
   "source": [
    "## Example 10:"
   ]
  },
  {
   "cell_type": "markdown",
   "metadata": {},
   "source": [
    "Imagine you are doing a social study on the health of certain races in different regions of the country. For the race that most frequently submits claims in Texas, find the state which has the lowest frequency of claims from the same race. Return the percentage of carrier reimbursement cost that race is responsible for, the average number of HMO months of coverage, and average beneficiary responsibility for those two states and that race. Order by state in ascending order."
   ]
  },
  {
   "cell_type": "code",
   "execution_count": 33,
   "metadata": {
    "collapsed": false
   },
   "outputs": [
    {
     "name": "stdout",
     "output_type": "stream",
     "text": [
      "  state   race  percent_of_reimbs          avg_hmo_mo         avg_bene_resp\n",
      "0    DC  white          37.944546  1.7576295244854507  126.2242725337118524\n",
      "1    TX  white          82.183373  3.7853097482446953  284.4598316459133403\n"
     ]
    }
   ],
   "source": [
    "SQL = \"\"\"\n",
    "SELECT state, race,\n",
    "       ((total_reimb / aggregate_carrier_reimb::float) * 100)::float AS percent_of_reimbs,\n",
    "       avg_hmo_mo, avg_bene_resp\n",
    "FROM\n",
    "   (SELECT LLHS.state, LLHS.race, LLHS.total_carrier_reimb AS total_reimb, LLHS.avg_hmo_mo,\n",
    "           LLHS.avg_bene_resp, RRHS.aggregate_carrier_reimb\n",
    "    FROM\n",
    "        (SELECT LHS.state, LHS.race, SUM(carrier_reimb) AS total_carrier_reimb,\n",
    "                AVG(hmo_mo) AS avg_hmo_mo, AVG(bene_resp) AS avg_bene_resp FROM\n",
    "           (SELECT id, state, race\n",
    "            FROM cmspop\n",
    "            WHERE state IN\n",
    "              (SELECT state\n",
    "               FROM\n",
    "                 /* OUR PREVIOUS QUERY */\n",
    "                 (SELECT state, COUNT(*) AS num_claims_single_race\n",
    "                  FROM cmspop\n",
    "                  WHERE race IN \n",
    "                    (SELECT race\n",
    "                     FROM\n",
    "                      (SELECT race, COUNT(*) AS num_claims\n",
    "                       FROM cmspop\n",
    "                       WHERE state = 'TX'\n",
    "                       GROUP BY race\n",
    "                       ORDER BY num_claims DESC\n",
    "                       LIMIT 1\n",
    "                      ) AS sub_sub_q\n",
    "                     )\n",
    "                  GROUP BY state\n",
    "                  ORDER BY num_claims_single_race ASC\n",
    "                  LIMIT 1) AS sub_q\n",
    "                 /* END PREVIOUS QUERY */\n",
    "              )\n",
    "              OR state = 'TX') AS LHS\n",
    "        LEFT JOIN\n",
    "           (SELECT id, carrier_reimb, hmo_mo, bene_resp FROM cmsclaims) AS RHS\n",
    "        ON LHS.id=RHS.id\n",
    "        GROUP BY state, race) AS LLHS\n",
    "    LEFT JOIN\n",
    "        (SELECT state, SUM(carrier_reimb) AS aggregate_carrier_reimb FROM\n",
    "           (SELECT id, state, race\n",
    "            FROM cmspop\n",
    "            WHERE state IN\n",
    "              (SELECT state\n",
    "               FROM\n",
    "                 /* OUR PREVIOUS QUERY */\n",
    "                 (SELECT state, COUNT(*) AS num_claims_single_race\n",
    "                  FROM cmspop\n",
    "                  WHERE race IN \n",
    "                    (SELECT race\n",
    "                     FROM\n",
    "                      (SELECT race, COUNT(*) AS num_claims\n",
    "                       FROM cmspop\n",
    "                       WHERE state = 'TX'\n",
    "                       GROUP BY race\n",
    "                       ORDER BY num_claims DESC\n",
    "                       LIMIT 1\n",
    "                      ) AS sub_sub_q\n",
    "                     )\n",
    "                  GROUP BY state\n",
    "                  ORDER BY num_claims_single_race ASC\n",
    "                  LIMIT 1) AS sub_q\n",
    "                 /* END PREVIOUS QUERY */\n",
    "              )\n",
    "              OR state = 'TX') AS LHS\n",
    "        LEFT JOIN\n",
    "           (SELECT id, carrier_reimb, hmo_mo, bene_resp FROM cmsclaims) AS RHS\n",
    "        ON LHS.id=RHS.id\n",
    "        GROUP BY state) AS RRHS\n",
    "    ON LLHS.state = RRHS.state) AS large_outer_q\n",
    "WHERE race IN\n",
    "  (SELECT race\n",
    "   FROM\n",
    "     (SELECT race, COUNT(*) AS num_claims\n",
    "      FROM cmspop\n",
    "      WHERE state = 'TX'\n",
    "      GROUP BY race\n",
    "      ORDER BY num_claims DESC\n",
    "      LIMIT 1\n",
    "     ) AS sub_q\n",
    "  )\n",
    "ORDER BY state ASC;\n",
    "\"\"\"\n",
    "tabular(SQL)"
   ]
  }
 ],
 "metadata": {
  "kernelspec": {
   "display_name": "Python 2",
   "language": "python",
   "name": "python2"
  },
  "language_info": {
   "codemirror_mode": {
    "name": "ipython",
    "version": 2
   },
   "file_extension": ".py",
   "mimetype": "text/x-python",
   "name": "python",
   "nbconvert_exporter": "python",
   "pygments_lexer": "ipython2",
   "version": "2.7.13"
  }
 },
 "nbformat": 4,
 "nbformat_minor": 2
}
